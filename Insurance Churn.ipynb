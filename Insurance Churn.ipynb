{
 "cells": [
  {
   "cell_type": "code",
   "execution_count": null,
   "metadata": {},
   "outputs": [],
   "source": [
    "# Title"
   ]
  },
  {
   "cell_type": "code",
   "execution_count": 1,
   "metadata": {},
   "outputs": [
    {
     "name": "stdout",
     "output_type": "stream",
     "text": [
      "project name: Insurance Churn\n"
     ]
    }
   ],
   "source": [
    "print(\"project name: Insurance Churn\")"
   ]
  },
  {
   "cell_type": "code",
   "execution_count": null,
   "metadata": {},
   "outputs": [],
   "source": [
    "# A brief about problem statemnt"
   ]
  },
  {
   "cell_type": "code",
   "execution_count": null,
   "metadata": {},
   "outputs": [],
   "source": [
    "'''\n",
    "Insurance companies around the world operate in a very competitive environment. With various aspects of data collected from \n",
    "millions of customers, it is painstakingly hard to analyze and understand the reason for a customer’s decision to switch to a \n",
    "different insurance provider.\n",
    "For an industry where customer acquisition and retention are equally important, and the former being a more expensive process, \n",
    "insurance companies rely on data to understand customer behaviour to prevent retention. Thus knowing whether a customer is \n",
    "possibly going to switch beforehand gives Insurance companies an opportunity to come up with strategies to prevent it from \n",
    "actually happening.\n",
    "Given are 16 distinguishing factors that can help in understanding the customer churn, your objective as a data scientist is to\n",
    "build a Machine Learning model that can predict whether the insurance company will lose a customer or not using these factors.\n",
    "You are provided with 16 anonymized factors (feature_0 to feature 15) that influence the churn of customers in the insurance \n",
    "industry\n",
    "'''"
   ]
  },
  {
   "cell_type": "code",
   "execution_count": null,
   "metadata": {},
   "outputs": [],
   "source": [
    "# Loading required libraries"
   ]
  },
  {
   "cell_type": "code",
   "execution_count": 18,
   "metadata": {},
   "outputs": [],
   "source": [
    "import numpy as np\n",
    "import pandas as pd\n",
    "import matplotlib.pyplot as plt\n",
    "%matplotlib inline\n",
    "import seaborn as sns\n",
    "from sklearn.model_selection import train_test_split\n",
    "from sklearn.metrics import r2_score\n",
    "from sklearn.tree import DecisionTreeClassifier\n",
    "from sklearn.ensemble import RandomForestClassifier\n",
    "from sklearn.linear_model import LogisticRegression\n",
    "from sklearn.metrics import f1_score,roc_curve, auc ,accuracy_score,cohen_kappa_score,confusion_matrix,classification_report,recall_score,precision_score\n",
    "from sklearn.neighbors import KNeighborsClassifier\n",
    "from sklearn.metrics import confusion_matrix\n",
    "from sklearn.ensemble import BaggingClassifier\n",
    "from sklearn.ensemble import ExtraTreesClassifier\n",
    "from sklearn.linear_model import SGDClassifier\n",
    "from sklearn.ensemble import ExtraTreesClassifier\n",
    "sns.set_style(\"whitegrid\")\n",
    "from xgboost import XGBClassifier"
   ]
  },
  {
   "cell_type": "code",
   "execution_count": null,
   "metadata": {},
   "outputs": [],
   "source": [
    "# Loading dataset"
   ]
  },
  {
   "cell_type": "code",
   "execution_count": 3,
   "metadata": {},
   "outputs": [],
   "source": [
    "train=pd.read_csv(\"Train.csv\")\n",
    "test=pd.read_csv(\"Test.csv\")"
   ]
  },
  {
   "cell_type": "code",
   "execution_count": null,
   "metadata": {},
   "outputs": [],
   "source": [
    "# shape of dataset"
   ]
  },
  {
   "cell_type": "code",
   "execution_count": 4,
   "metadata": {},
   "outputs": [
    {
     "name": "stdout",
     "output_type": "stream",
     "text": [
      "shape of train dataset: (33908, 17)\n",
      "shape of test dataset: (11303, 16)\n"
     ]
    }
   ],
   "source": [
    "print(\"shape of train dataset:\",train.shape)\n",
    "print(\"shape of test dataset:\",test.shape)"
   ]
  },
  {
   "cell_type": "code",
   "execution_count": null,
   "metadata": {},
   "outputs": [],
   "source": [
    "# Lets see the training dataset"
   ]
  },
  {
   "cell_type": "code",
   "execution_count": 5,
   "metadata": {},
   "outputs": [
    {
     "data": {
      "text/html": [
       "<div>\n",
       "<style scoped>\n",
       "    .dataframe tbody tr th:only-of-type {\n",
       "        vertical-align: middle;\n",
       "    }\n",
       "\n",
       "    .dataframe tbody tr th {\n",
       "        vertical-align: top;\n",
       "    }\n",
       "\n",
       "    .dataframe thead th {\n",
       "        text-align: right;\n",
       "    }\n",
       "</style>\n",
       "<table border=\"1\" class=\"dataframe\">\n",
       "  <thead>\n",
       "    <tr style=\"text-align: right;\">\n",
       "      <th></th>\n",
       "      <th>feature_0</th>\n",
       "      <th>feature_1</th>\n",
       "      <th>feature_2</th>\n",
       "      <th>feature_3</th>\n",
       "      <th>feature_4</th>\n",
       "      <th>feature_5</th>\n",
       "      <th>feature_6</th>\n",
       "      <th>feature_7</th>\n",
       "      <th>feature_8</th>\n",
       "      <th>feature_9</th>\n",
       "      <th>feature_10</th>\n",
       "      <th>feature_11</th>\n",
       "      <th>feature_12</th>\n",
       "      <th>feature_13</th>\n",
       "      <th>feature_14</th>\n",
       "      <th>feature_15</th>\n",
       "      <th>labels</th>\n",
       "    </tr>\n",
       "  </thead>\n",
       "  <tbody>\n",
       "    <tr>\n",
       "      <th>6676</th>\n",
       "      <td>-0.841558</td>\n",
       "      <td>0.201899</td>\n",
       "      <td>0.263576</td>\n",
       "      <td>-0.831621</td>\n",
       "      <td>0.399020</td>\n",
       "      <td>-0.411453</td>\n",
       "      <td>-0.25194</td>\n",
       "      <td>7</td>\n",
       "      <td>1</td>\n",
       "      <td>1</td>\n",
       "      <td>0</td>\n",
       "      <td>1</td>\n",
       "      <td>1</td>\n",
       "      <td>0</td>\n",
       "      <td>8</td>\n",
       "      <td>3</td>\n",
       "      <td>0</td>\n",
       "    </tr>\n",
       "    <tr>\n",
       "      <th>15801</th>\n",
       "      <td>-0.653211</td>\n",
       "      <td>-0.445777</td>\n",
       "      <td>0.263576</td>\n",
       "      <td>0.434276</td>\n",
       "      <td>-0.246560</td>\n",
       "      <td>-0.411453</td>\n",
       "      <td>-0.25194</td>\n",
       "      <td>4</td>\n",
       "      <td>2</td>\n",
       "      <td>2</td>\n",
       "      <td>0</td>\n",
       "      <td>0</td>\n",
       "      <td>0</td>\n",
       "      <td>0</td>\n",
       "      <td>1</td>\n",
       "      <td>3</td>\n",
       "      <td>1</td>\n",
       "    </tr>\n",
       "    <tr>\n",
       "      <th>32208</th>\n",
       "      <td>-0.370689</td>\n",
       "      <td>0.438373</td>\n",
       "      <td>0.503892</td>\n",
       "      <td>0.667263</td>\n",
       "      <td>-0.569351</td>\n",
       "      <td>-0.411453</td>\n",
       "      <td>-0.25194</td>\n",
       "      <td>1</td>\n",
       "      <td>1</td>\n",
       "      <td>1</td>\n",
       "      <td>0</td>\n",
       "      <td>1</td>\n",
       "      <td>0</td>\n",
       "      <td>0</td>\n",
       "      <td>0</td>\n",
       "      <td>3</td>\n",
       "      <td>0</td>\n",
       "    </tr>\n",
       "    <tr>\n",
       "      <th>7853</th>\n",
       "      <td>-0.747384</td>\n",
       "      <td>-0.085811</td>\n",
       "      <td>-1.178318</td>\n",
       "      <td>0.546886</td>\n",
       "      <td>-0.246560</td>\n",
       "      <td>-0.411453</td>\n",
       "      <td>-0.25194</td>\n",
       "      <td>1</td>\n",
       "      <td>1</td>\n",
       "      <td>1</td>\n",
       "      <td>0</td>\n",
       "      <td>1</td>\n",
       "      <td>0</td>\n",
       "      <td>0</td>\n",
       "      <td>0</td>\n",
       "      <td>3</td>\n",
       "      <td>0</td>\n",
       "    </tr>\n",
       "    <tr>\n",
       "      <th>13164</th>\n",
       "      <td>1.324443</td>\n",
       "      <td>-0.229666</td>\n",
       "      <td>-1.178318</td>\n",
       "      <td>-0.109361</td>\n",
       "      <td>-0.569351</td>\n",
       "      <td>-0.411453</td>\n",
       "      <td>-0.25194</td>\n",
       "      <td>1</td>\n",
       "      <td>1</td>\n",
       "      <td>0</td>\n",
       "      <td>0</td>\n",
       "      <td>1</td>\n",
       "      <td>0</td>\n",
       "      <td>0</td>\n",
       "      <td>8</td>\n",
       "      <td>3</td>\n",
       "      <td>0</td>\n",
       "    </tr>\n",
       "  </tbody>\n",
       "</table>\n",
       "</div>"
      ],
      "text/plain": [
       "       feature_0  feature_1  feature_2  feature_3  feature_4  feature_5  \\\n",
       "6676   -0.841558   0.201899   0.263576  -0.831621   0.399020  -0.411453   \n",
       "15801  -0.653211  -0.445777   0.263576   0.434276  -0.246560  -0.411453   \n",
       "32208  -0.370689   0.438373   0.503892   0.667263  -0.569351  -0.411453   \n",
       "7853   -0.747384  -0.085811  -1.178318   0.546886  -0.246560  -0.411453   \n",
       "13164   1.324443  -0.229666  -1.178318  -0.109361  -0.569351  -0.411453   \n",
       "\n",
       "       feature_6  feature_7  feature_8  feature_9  feature_10  feature_11  \\\n",
       "6676    -0.25194          7          1          1           0           1   \n",
       "15801   -0.25194          4          2          2           0           0   \n",
       "32208   -0.25194          1          1          1           0           1   \n",
       "7853    -0.25194          1          1          1           0           1   \n",
       "13164   -0.25194          1          1          0           0           1   \n",
       "\n",
       "       feature_12  feature_13  feature_14  feature_15  labels  \n",
       "6676            1           0           8           3       0  \n",
       "15801           0           0           1           3       1  \n",
       "32208           0           0           0           3       0  \n",
       "7853            0           0           0           3       0  \n",
       "13164           0           0           8           3       0  "
      ]
     },
     "execution_count": 5,
     "metadata": {},
     "output_type": "execute_result"
    }
   ],
   "source": [
    "train.sample(5)"
   ]
  },
  {
   "cell_type": "code",
   "execution_count": null,
   "metadata": {},
   "outputs": [],
   "source": [
    "# Lets see test dataset"
   ]
  },
  {
   "cell_type": "code",
   "execution_count": 6,
   "metadata": {},
   "outputs": [
    {
     "data": {
      "text/html": [
       "<div>\n",
       "<style scoped>\n",
       "    .dataframe tbody tr th:only-of-type {\n",
       "        vertical-align: middle;\n",
       "    }\n",
       "\n",
       "    .dataframe tbody tr th {\n",
       "        vertical-align: top;\n",
       "    }\n",
       "\n",
       "    .dataframe thead th {\n",
       "        text-align: right;\n",
       "    }\n",
       "</style>\n",
       "<table border=\"1\" class=\"dataframe\">\n",
       "  <thead>\n",
       "    <tr style=\"text-align: right;\">\n",
       "      <th></th>\n",
       "      <th>feature_0</th>\n",
       "      <th>feature_1</th>\n",
       "      <th>feature_2</th>\n",
       "      <th>feature_3</th>\n",
       "      <th>feature_4</th>\n",
       "      <th>feature_5</th>\n",
       "      <th>feature_6</th>\n",
       "      <th>feature_7</th>\n",
       "      <th>feature_8</th>\n",
       "      <th>feature_9</th>\n",
       "      <th>feature_10</th>\n",
       "      <th>feature_11</th>\n",
       "      <th>feature_12</th>\n",
       "      <th>feature_13</th>\n",
       "      <th>feature_14</th>\n",
       "      <th>feature_15</th>\n",
       "    </tr>\n",
       "  </thead>\n",
       "  <tbody>\n",
       "    <tr>\n",
       "      <th>8712</th>\n",
       "      <td>-0.276515</td>\n",
       "      <td>-0.323927</td>\n",
       "      <td>-1.058161</td>\n",
       "      <td>4.903746</td>\n",
       "      <td>-0.569351</td>\n",
       "      <td>-0.411453</td>\n",
       "      <td>-0.251940</td>\n",
       "      <td>1</td>\n",
       "      <td>1</td>\n",
       "      <td>1</td>\n",
       "      <td>0</td>\n",
       "      <td>1</td>\n",
       "      <td>0</td>\n",
       "      <td>2</td>\n",
       "      <td>8</td>\n",
       "      <td>3</td>\n",
       "    </tr>\n",
       "    <tr>\n",
       "      <th>1338</th>\n",
       "      <td>0.288529</td>\n",
       "      <td>-0.012570</td>\n",
       "      <td>1.104681</td>\n",
       "      <td>-0.540387</td>\n",
       "      <td>-0.569351</td>\n",
       "      <td>0.487400</td>\n",
       "      <td>0.616335</td>\n",
       "      <td>1</td>\n",
       "      <td>1</td>\n",
       "      <td>1</td>\n",
       "      <td>0</td>\n",
       "      <td>1</td>\n",
       "      <td>0</td>\n",
       "      <td>1</td>\n",
       "      <td>10</td>\n",
       "      <td>1</td>\n",
       "    </tr>\n",
       "    <tr>\n",
       "      <th>733</th>\n",
       "      <td>-1.783298</td>\n",
       "      <td>-0.324584</td>\n",
       "      <td>-0.337213</td>\n",
       "      <td>-0.388945</td>\n",
       "      <td>0.721811</td>\n",
       "      <td>-0.411453</td>\n",
       "      <td>-0.251940</td>\n",
       "      <td>4</td>\n",
       "      <td>2</td>\n",
       "      <td>2</td>\n",
       "      <td>0</td>\n",
       "      <td>1</td>\n",
       "      <td>0</td>\n",
       "      <td>0</td>\n",
       "      <td>8</td>\n",
       "      <td>3</td>\n",
       "    </tr>\n",
       "    <tr>\n",
       "      <th>3527</th>\n",
       "      <td>0.288529</td>\n",
       "      <td>-0.167920</td>\n",
       "      <td>-0.577529</td>\n",
       "      <td>-0.819971</td>\n",
       "      <td>-0.246560</td>\n",
       "      <td>-0.411453</td>\n",
       "      <td>-0.251940</td>\n",
       "      <td>9</td>\n",
       "      <td>1</td>\n",
       "      <td>2</td>\n",
       "      <td>0</td>\n",
       "      <td>1</td>\n",
       "      <td>0</td>\n",
       "      <td>0</td>\n",
       "      <td>5</td>\n",
       "      <td>3</td>\n",
       "    </tr>\n",
       "    <tr>\n",
       "      <th>7644</th>\n",
       "      <td>0.947747</td>\n",
       "      <td>0.420309</td>\n",
       "      <td>1.585313</td>\n",
       "      <td>-0.800556</td>\n",
       "      <td>1.044601</td>\n",
       "      <td>-0.411453</td>\n",
       "      <td>-0.251940</td>\n",
       "      <td>11</td>\n",
       "      <td>1</td>\n",
       "      <td>3</td>\n",
       "      <td>0</td>\n",
       "      <td>0</td>\n",
       "      <td>0</td>\n",
       "      <td>0</td>\n",
       "      <td>5</td>\n",
       "      <td>3</td>\n",
       "    </tr>\n",
       "  </tbody>\n",
       "</table>\n",
       "</div>"
      ],
      "text/plain": [
       "      feature_0  feature_1  feature_2  feature_3  feature_4  feature_5  \\\n",
       "8712  -0.276515  -0.323927  -1.058161   4.903746  -0.569351  -0.411453   \n",
       "1338   0.288529  -0.012570   1.104681  -0.540387  -0.569351   0.487400   \n",
       "733   -1.783298  -0.324584  -0.337213  -0.388945   0.721811  -0.411453   \n",
       "3527   0.288529  -0.167920  -0.577529  -0.819971  -0.246560  -0.411453   \n",
       "7644   0.947747   0.420309   1.585313  -0.800556   1.044601  -0.411453   \n",
       "\n",
       "      feature_6  feature_7  feature_8  feature_9  feature_10  feature_11  \\\n",
       "8712  -0.251940          1          1          1           0           1   \n",
       "1338   0.616335          1          1          1           0           1   \n",
       "733   -0.251940          4          2          2           0           1   \n",
       "3527  -0.251940          9          1          2           0           1   \n",
       "7644  -0.251940         11          1          3           0           0   \n",
       "\n",
       "      feature_12  feature_13  feature_14  feature_15  \n",
       "8712           0           2           8           3  \n",
       "1338           0           1          10           1  \n",
       "733            0           0           8           3  \n",
       "3527           0           0           5           3  \n",
       "7644           0           0           5           3  "
      ]
     },
     "execution_count": 6,
     "metadata": {},
     "output_type": "execute_result"
    }
   ],
   "source": [
    "test.sample(5)"
   ]
  },
  {
   "cell_type": "code",
   "execution_count": null,
   "metadata": {},
   "outputs": [],
   "source": [
    "# detailed summary of training dataset"
   ]
  },
  {
   "cell_type": "code",
   "execution_count": 7,
   "metadata": {},
   "outputs": [
    {
     "data": {
      "text/html": [
       "<div>\n",
       "<style scoped>\n",
       "    .dataframe tbody tr th:only-of-type {\n",
       "        vertical-align: middle;\n",
       "    }\n",
       "\n",
       "    .dataframe tbody tr th {\n",
       "        vertical-align: top;\n",
       "    }\n",
       "\n",
       "    .dataframe thead th {\n",
       "        text-align: right;\n",
       "    }\n",
       "</style>\n",
       "<table border=\"1\" class=\"dataframe\">\n",
       "  <thead>\n",
       "    <tr style=\"text-align: right;\">\n",
       "      <th></th>\n",
       "      <th>Total missing</th>\n",
       "      <th>% missing</th>\n",
       "      <th>DataType</th>\n",
       "      <th>Unique</th>\n",
       "    </tr>\n",
       "  </thead>\n",
       "  <tbody>\n",
       "    <tr>\n",
       "      <th>feature_0</th>\n",
       "      <td>0</td>\n",
       "      <td>0.0</td>\n",
       "      <td>float64</td>\n",
       "      <td>77</td>\n",
       "    </tr>\n",
       "    <tr>\n",
       "      <th>feature_1</th>\n",
       "      <td>0</td>\n",
       "      <td>0.0</td>\n",
       "      <td>float64</td>\n",
       "      <td>6434</td>\n",
       "    </tr>\n",
       "    <tr>\n",
       "      <th>feature_2</th>\n",
       "      <td>0</td>\n",
       "      <td>0.0</td>\n",
       "      <td>float64</td>\n",
       "      <td>31</td>\n",
       "    </tr>\n",
       "    <tr>\n",
       "      <th>feature_3</th>\n",
       "      <td>0</td>\n",
       "      <td>0.0</td>\n",
       "      <td>float64</td>\n",
       "      <td>1482</td>\n",
       "    </tr>\n",
       "    <tr>\n",
       "      <th>feature_4</th>\n",
       "      <td>0</td>\n",
       "      <td>0.0</td>\n",
       "      <td>float64</td>\n",
       "      <td>47</td>\n",
       "    </tr>\n",
       "    <tr>\n",
       "      <th>feature_5</th>\n",
       "      <td>0</td>\n",
       "      <td>0.0</td>\n",
       "      <td>float64</td>\n",
       "      <td>517</td>\n",
       "    </tr>\n",
       "    <tr>\n",
       "      <th>feature_6</th>\n",
       "      <td>0</td>\n",
       "      <td>0.0</td>\n",
       "      <td>float64</td>\n",
       "      <td>36</td>\n",
       "    </tr>\n",
       "    <tr>\n",
       "      <th>feature_7</th>\n",
       "      <td>0</td>\n",
       "      <td>0.0</td>\n",
       "      <td>int64</td>\n",
       "      <td>12</td>\n",
       "    </tr>\n",
       "    <tr>\n",
       "      <th>feature_8</th>\n",
       "      <td>0</td>\n",
       "      <td>0.0</td>\n",
       "      <td>int64</td>\n",
       "      <td>3</td>\n",
       "    </tr>\n",
       "    <tr>\n",
       "      <th>feature_9</th>\n",
       "      <td>0</td>\n",
       "      <td>0.0</td>\n",
       "      <td>int64</td>\n",
       "      <td>4</td>\n",
       "    </tr>\n",
       "    <tr>\n",
       "      <th>feature_10</th>\n",
       "      <td>0</td>\n",
       "      <td>0.0</td>\n",
       "      <td>int64</td>\n",
       "      <td>2</td>\n",
       "    </tr>\n",
       "    <tr>\n",
       "      <th>feature_11</th>\n",
       "      <td>0</td>\n",
       "      <td>0.0</td>\n",
       "      <td>int64</td>\n",
       "      <td>2</td>\n",
       "    </tr>\n",
       "    <tr>\n",
       "      <th>feature_12</th>\n",
       "      <td>0</td>\n",
       "      <td>0.0</td>\n",
       "      <td>int64</td>\n",
       "      <td>2</td>\n",
       "    </tr>\n",
       "    <tr>\n",
       "      <th>feature_13</th>\n",
       "      <td>0</td>\n",
       "      <td>0.0</td>\n",
       "      <td>int64</td>\n",
       "      <td>3</td>\n",
       "    </tr>\n",
       "    <tr>\n",
       "      <th>feature_14</th>\n",
       "      <td>0</td>\n",
       "      <td>0.0</td>\n",
       "      <td>int64</td>\n",
       "      <td>12</td>\n",
       "    </tr>\n",
       "    <tr>\n",
       "      <th>feature_15</th>\n",
       "      <td>0</td>\n",
       "      <td>0.0</td>\n",
       "      <td>int64</td>\n",
       "      <td>4</td>\n",
       "    </tr>\n",
       "    <tr>\n",
       "      <th>labels</th>\n",
       "      <td>0</td>\n",
       "      <td>0.0</td>\n",
       "      <td>int64</td>\n",
       "      <td>2</td>\n",
       "    </tr>\n",
       "  </tbody>\n",
       "</table>\n",
       "</div>"
      ],
      "text/plain": [
       "            Total missing  % missing DataType  Unique\n",
       "feature_0               0        0.0  float64      77\n",
       "feature_1               0        0.0  float64    6434\n",
       "feature_2               0        0.0  float64      31\n",
       "feature_3               0        0.0  float64    1482\n",
       "feature_4               0        0.0  float64      47\n",
       "feature_5               0        0.0  float64     517\n",
       "feature_6               0        0.0  float64      36\n",
       "feature_7               0        0.0    int64      12\n",
       "feature_8               0        0.0    int64       3\n",
       "feature_9               0        0.0    int64       4\n",
       "feature_10              0        0.0    int64       2\n",
       "feature_11              0        0.0    int64       2\n",
       "feature_12              0        0.0    int64       2\n",
       "feature_13              0        0.0    int64       3\n",
       "feature_14              0        0.0    int64      12\n",
       "feature_15              0        0.0    int64       4\n",
       "labels                  0        0.0    int64       2"
      ]
     },
     "execution_count": 7,
     "metadata": {},
     "output_type": "execute_result"
    }
   ],
   "source": [
    "pd.DataFrame({\"Total missing\":train.isna().sum(),\"% missing\":train.isna().mean(),\"DataType\":train.dtypes,\"Unique\":train.nunique()})"
   ]
  },
  {
   "cell_type": "code",
   "execution_count": null,
   "metadata": {},
   "outputs": [],
   "source": [
    "# A brief summary of test dataset"
   ]
  },
  {
   "cell_type": "code",
   "execution_count": 8,
   "metadata": {},
   "outputs": [
    {
     "data": {
      "text/html": [
       "<div>\n",
       "<style scoped>\n",
       "    .dataframe tbody tr th:only-of-type {\n",
       "        vertical-align: middle;\n",
       "    }\n",
       "\n",
       "    .dataframe tbody tr th {\n",
       "        vertical-align: top;\n",
       "    }\n",
       "\n",
       "    .dataframe thead th {\n",
       "        text-align: right;\n",
       "    }\n",
       "</style>\n",
       "<table border=\"1\" class=\"dataframe\">\n",
       "  <thead>\n",
       "    <tr style=\"text-align: right;\">\n",
       "      <th></th>\n",
       "      <th>Total missing</th>\n",
       "      <th>% missing</th>\n",
       "      <th>DataType</th>\n",
       "      <th>Unique</th>\n",
       "    </tr>\n",
       "  </thead>\n",
       "  <tbody>\n",
       "    <tr>\n",
       "      <th>feature_0</th>\n",
       "      <td>0</td>\n",
       "      <td>0.0</td>\n",
       "      <td>float64</td>\n",
       "      <td>73</td>\n",
       "    </tr>\n",
       "    <tr>\n",
       "      <th>feature_1</th>\n",
       "      <td>0</td>\n",
       "      <td>0.0</td>\n",
       "      <td>float64</td>\n",
       "      <td>3911</td>\n",
       "    </tr>\n",
       "    <tr>\n",
       "      <th>feature_2</th>\n",
       "      <td>0</td>\n",
       "      <td>0.0</td>\n",
       "      <td>float64</td>\n",
       "      <td>31</td>\n",
       "    </tr>\n",
       "    <tr>\n",
       "      <th>feature_3</th>\n",
       "      <td>0</td>\n",
       "      <td>0.0</td>\n",
       "      <td>float64</td>\n",
       "      <td>1118</td>\n",
       "    </tr>\n",
       "    <tr>\n",
       "      <th>feature_4</th>\n",
       "      <td>0</td>\n",
       "      <td>0.0</td>\n",
       "      <td>float64</td>\n",
       "      <td>37</td>\n",
       "    </tr>\n",
       "    <tr>\n",
       "      <th>feature_5</th>\n",
       "      <td>0</td>\n",
       "      <td>0.0</td>\n",
       "      <td>float64</td>\n",
       "      <td>387</td>\n",
       "    </tr>\n",
       "    <tr>\n",
       "      <th>feature_6</th>\n",
       "      <td>0</td>\n",
       "      <td>0.0</td>\n",
       "      <td>float64</td>\n",
       "      <td>33</td>\n",
       "    </tr>\n",
       "    <tr>\n",
       "      <th>feature_7</th>\n",
       "      <td>0</td>\n",
       "      <td>0.0</td>\n",
       "      <td>int64</td>\n",
       "      <td>12</td>\n",
       "    </tr>\n",
       "    <tr>\n",
       "      <th>feature_8</th>\n",
       "      <td>0</td>\n",
       "      <td>0.0</td>\n",
       "      <td>int64</td>\n",
       "      <td>3</td>\n",
       "    </tr>\n",
       "    <tr>\n",
       "      <th>feature_9</th>\n",
       "      <td>0</td>\n",
       "      <td>0.0</td>\n",
       "      <td>int64</td>\n",
       "      <td>4</td>\n",
       "    </tr>\n",
       "    <tr>\n",
       "      <th>feature_10</th>\n",
       "      <td>0</td>\n",
       "      <td>0.0</td>\n",
       "      <td>int64</td>\n",
       "      <td>2</td>\n",
       "    </tr>\n",
       "    <tr>\n",
       "      <th>feature_11</th>\n",
       "      <td>0</td>\n",
       "      <td>0.0</td>\n",
       "      <td>int64</td>\n",
       "      <td>2</td>\n",
       "    </tr>\n",
       "    <tr>\n",
       "      <th>feature_12</th>\n",
       "      <td>0</td>\n",
       "      <td>0.0</td>\n",
       "      <td>int64</td>\n",
       "      <td>2</td>\n",
       "    </tr>\n",
       "    <tr>\n",
       "      <th>feature_13</th>\n",
       "      <td>0</td>\n",
       "      <td>0.0</td>\n",
       "      <td>int64</td>\n",
       "      <td>3</td>\n",
       "    </tr>\n",
       "    <tr>\n",
       "      <th>feature_14</th>\n",
       "      <td>0</td>\n",
       "      <td>0.0</td>\n",
       "      <td>int64</td>\n",
       "      <td>12</td>\n",
       "    </tr>\n",
       "    <tr>\n",
       "      <th>feature_15</th>\n",
       "      <td>0</td>\n",
       "      <td>0.0</td>\n",
       "      <td>int64</td>\n",
       "      <td>4</td>\n",
       "    </tr>\n",
       "  </tbody>\n",
       "</table>\n",
       "</div>"
      ],
      "text/plain": [
       "            Total missing  % missing DataType  Unique\n",
       "feature_0               0        0.0  float64      73\n",
       "feature_1               0        0.0  float64    3911\n",
       "feature_2               0        0.0  float64      31\n",
       "feature_3               0        0.0  float64    1118\n",
       "feature_4               0        0.0  float64      37\n",
       "feature_5               0        0.0  float64     387\n",
       "feature_6               0        0.0  float64      33\n",
       "feature_7               0        0.0    int64      12\n",
       "feature_8               0        0.0    int64       3\n",
       "feature_9               0        0.0    int64       4\n",
       "feature_10              0        0.0    int64       2\n",
       "feature_11              0        0.0    int64       2\n",
       "feature_12              0        0.0    int64       2\n",
       "feature_13              0        0.0    int64       3\n",
       "feature_14              0        0.0    int64      12\n",
       "feature_15              0        0.0    int64       4"
      ]
     },
     "execution_count": 8,
     "metadata": {},
     "output_type": "execute_result"
    }
   ],
   "source": [
    "pd.DataFrame({\"Total missing\":test.isna().sum(),\"% missing\":test.isna().mean(),\"DataType\":test.dtypes,\"Unique\":test.nunique()})"
   ]
  },
  {
   "cell_type": "code",
   "execution_count": null,
   "metadata": {},
   "outputs": [],
   "source": [
    "# Data Looks very clean without any null and categorical columns"
   ]
  },
  {
   "cell_type": "code",
   "execution_count": null,
   "metadata": {},
   "outputs": [],
   "source": [
    "# EDA"
   ]
  },
  {
   "cell_type": "code",
   "execution_count": 17,
   "metadata": {},
   "outputs": [
    {
     "data": {
      "image/png": "[encoded data removed]",
      "text/plain": [
       "<Figure size 1800x1440 with 20 Axes>"
      ]
     },
     "metadata": {},
     "output_type": "display_data"
    },
    {
     "data": {
      "text/plain": [
       "<Figure size 432x288 with 0 Axes>"
      ]
     },
     "metadata": {},
     "output_type": "display_data"
    }
   ],
   "source": [
    "train.hist(figsize=(25,20))\n",
    "plt.show()\n",
    "plt.savefig(\"ins-hist.png\")"
   ]
  },
  {
   "cell_type": "code",
   "execution_count": 20,
   "metadata": {},
   "outputs": [
    {
     "data": {
      "image/png": "[encoded data removed]",
      "text/plain": [
       "<Figure size 1800x504 with 1 Axes>"
      ]
     },
     "metadata": {},
     "output_type": "display_data"
    }
   ],
   "source": [
    "plt.figure(figsize=(25,7))\n",
    "sns.countplot(train[\"feature_2\"])\n",
    "plt.xticks(rotation=90)\n",
    "plt.savefig(\"ins-feat2.png\")"
   ]
  },
  {
   "cell_type": "code",
   "execution_count": null,
   "metadata": {},
   "outputs": [],
   "source": [
    "# Lets split training dataset into dependent and independent dataset"
   ]
  },
  {
   "cell_type": "code",
   "execution_count": 21,
   "metadata": {},
   "outputs": [],
   "source": [
    "y=train[\"labels\"]\n",
    "x=train.drop(\"labels\",axis=1)"
   ]
  },
  {
   "cell_type": "code",
   "execution_count": null,
   "metadata": {},
   "outputs": [],
   "source": [
    "# Lets check feature importance"
   ]
  },
  {
   "cell_type": "code",
   "execution_count": 24,
   "metadata": {},
   "outputs": [
    {
     "name": "stderr",
     "output_type": "stream",
     "text": [
      "c:\\users\\acer\\appdata\\local\\programs\\python\\python36\\lib\\site-packages\\sklearn\\ensemble\\forest.py:245: FutureWarning: The default value of n_estimators will change from 10 in version 0.20 to 100 in 0.22.\n",
      "  \"10 in version 0.20 to 100 in 0.22.\", FutureWarning)\n"
     ]
    },
    {
     "name": "stdout",
     "output_type": "stream",
     "text": [
      "[0.10321545 0.1128106  0.0875373  0.29089952 0.03937156 0.04788529\n",
      " 0.02678622 0.04899929 0.02115742 0.02964813 0.00201302 0.02971839\n",
      " 0.01097276 0.02083847 0.08144494 0.04670166]\n"
     ]
    },
    {
     "data": {
      "image/png": "[encoded data removed]",
      "text/plain": [
       "<Figure size 720x504 with 1 Axes>"
      ]
     },
     "metadata": {},
     "output_type": "display_data"
    },
    {
     "data": {
      "text/plain": [
       "<Figure size 432x288 with 0 Axes>"
      ]
     },
     "metadata": {},
     "output_type": "display_data"
    }
   ],
   "source": [
    "fig=plt.figure(figsize=(10,7))\n",
    "model = RandomForestClassifier()\n",
    "model.fit(x,y)\n",
    "print(model.feature_importances_) #use inbuilt class feature_importances of tree based classifiers\n",
    "#plot graph of feature importances for better visualization\n",
    "feat_importances = pd.Series(model.feature_importances_, index=x.columns)\n",
    "feat_importances.nlargest(17).plot(kind='barh')\n",
    "plt.show()\n",
    "plt.savefig(\"ins-featimp.png\")"
   ]
  },
  {
   "cell_type": "code",
   "execution_count": null,
   "metadata": {},
   "outputs": [],
   "source": [
    "# splitting the dataset using train test split"
   ]
  },
  {
   "cell_type": "code",
   "execution_count": 25,
   "metadata": {},
   "outputs": [],
   "source": [
    "x_train,x_test,y_train,y_test=train_test_split(x,y,test_size=0.3,random_state=42)"
   ]
  },
  {
   "cell_type": "code",
   "execution_count": null,
   "metadata": {},
   "outputs": [],
   "source": [
    "# Printing the shape of splitted dataset"
   ]
  },
  {
   "cell_type": "code",
   "execution_count": 26,
   "metadata": {},
   "outputs": [
    {
     "name": "stdout",
     "output_type": "stream",
     "text": [
      "shape of x_train: (23735, 16)\n",
      "shape of y_train: (23735,)\n",
      "shape of x_test: (10173, 16)\n",
      "shape of y_test: (10173,)\n"
     ]
    }
   ],
   "source": [
    "print(\"shape of x_train:\",x_train.shape)\n",
    "print(\"shape of y_train:\",y_train.shape)\n",
    "print(\"shape of x_test:\",x_test.shape)\n",
    "print(\"shape of y_test:\",y_test.shape)"
   ]
  },
  {
   "cell_type": "code",
   "execution_count": null,
   "metadata": {},
   "outputs": [],
   "source": [
    "# Applying machine learning algorithm on train dataset"
   ]
  },
  {
   "cell_type": "code",
   "execution_count": null,
   "metadata": {},
   "outputs": [],
   "source": [
    "# Extra trees classifier"
   ]
  },
  {
   "cell_type": "code",
   "execution_count": 27,
   "metadata": {},
   "outputs": [],
   "source": [
    "etc=ExtraTreesClassifier(n_estimators=100)\n",
    "etc.fit(x_train,y_train)\n",
    "prediction=etc.predict(x_test)"
   ]
  },
  {
   "cell_type": "code",
   "execution_count": null,
   "metadata": {},
   "outputs": [],
   "source": [
    "# Looking at the output"
   ]
  },
  {
   "cell_type": "code",
   "execution_count": 29,
   "metadata": {},
   "outputs": [],
   "source": [
    "output=pd.DataFrame({\"Act\":y_test,\"Predicted\":prediction})"
   ]
  },
  {
   "cell_type": "code",
   "execution_count": null,
   "metadata": {},
   "outputs": [],
   "source": [
    "# Evaluating result"
   ]
  },
  {
   "cell_type": "code",
   "execution_count": 30,
   "metadata": {},
   "outputs": [
    {
     "name": "stdout",
     "output_type": "stream",
     "text": [
      "accuracy score is 0.9020937776467118\n",
      "Kappa is : 0.39464213635838963\n",
      "Sensitiviy is : 0.3261410788381743\n",
      "Precision is : 0.6811091854419411\n",
      "R2 score is: 0.06238243121694087\n",
      "Area under curve is  :0.6528118418276508\n",
      "[[8784  184]\n",
      " [ 812  393]]\n",
      "              precision    recall  f1-score   support\n",
      "\n",
      "           0       0.92      0.98      0.95      8968\n",
      "           1       0.68      0.33      0.44      1205\n",
      "\n",
      "    accuracy                           0.90     10173\n",
      "   macro avg       0.80      0.65      0.69     10173\n",
      "weighted avg       0.89      0.90      0.89     10173\n",
      "\n"
     ]
    }
   ],
   "source": [
    "print(\"accuracy score is {}\".format(accuracy_score(y_test,prediction)))\n",
    "print(\"Kappa is :\",cohen_kappa_score(y_test,prediction))\n",
    "print(\"Sensitiviy is :\",recall_score(y_test, prediction))\n",
    "print(\"Precision is :\",precision_score(y_test, prediction))\n",
    "print(\"R2 score is:\",r2_score(y_test,prediction))\n",
    "fpr, tpr, thresholds = roc_curve(y_test,prediction)\n",
    "print(\"Area under curve is  :{}\".format(auc(fpr,tpr)))\n",
    "print(confusion_matrix(y_test, prediction))\n",
    "print(classification_report(y_test, prediction))"
   ]
  },
  {
   "cell_type": "code",
   "execution_count": null,
   "metadata": {},
   "outputs": [],
   "source": [
    "# Bagging classifier"
   ]
  },
  {
   "cell_type": "code",
   "execution_count": 31,
   "metadata": {},
   "outputs": [],
   "source": [
    "bc=BaggingClassifier()\n",
    "bc.fit(x_train,y_train)\n",
    "prediction=bc.predict(x_test)"
   ]
  },
  {
   "cell_type": "code",
   "execution_count": 32,
   "metadata": {},
   "outputs": [
    {
     "name": "stdout",
     "output_type": "stream",
     "text": [
      "accuracy score is 0.8967856089649071\n",
      "Kappa is : 0.4120011837428249\n",
      "Sensitiviy is : 0.3800829875518672\n",
      "Precision is : 0.6018396846254928\n",
      "R2 score is: 0.0115477437527991\n",
      "Area under curve is  :0.6731480950248185\n",
      "[[8665  303]\n",
      " [ 747  458]]\n",
      "              precision    recall  f1-score   support\n",
      "\n",
      "           0       0.92      0.97      0.94      8968\n",
      "           1       0.60      0.38      0.47      1205\n",
      "\n",
      "    accuracy                           0.90     10173\n",
      "   macro avg       0.76      0.67      0.70     10173\n",
      "weighted avg       0.88      0.90      0.89     10173\n",
      "\n"
     ]
    }
   ],
   "source": [
    "print(\"accuracy score is {}\".format(accuracy_score(y_test,prediction)))\n",
    "print(\"Kappa is :\",cohen_kappa_score(y_test,prediction))\n",
    "print(\"Sensitiviy is :\",recall_score(y_test, prediction))\n",
    "print(\"Precision is :\",precision_score(y_test, prediction))\n",
    "print(\"R2 score is:\",r2_score(y_test,prediction))\n",
    "fpr, tpr, thresholds = roc_curve(y_test,prediction)\n",
    "print(\"Area under curve is  :{}\".format(auc(fpr,tpr)))\n",
    "print(confusion_matrix(y_test, prediction))\n",
    "print(classification_report(y_test, prediction))"
   ]
  },
  {
   "cell_type": "code",
   "execution_count": null,
   "metadata": {},
   "outputs": [],
   "source": [
    "# KNN"
   ]
  },
  {
   "cell_type": "code",
   "execution_count": 33,
   "metadata": {},
   "outputs": [],
   "source": [
    "knn=KNeighborsClassifier()\n",
    "knn.fit(x_train,y_train)\n",
    "prediction=knn.predict(x_test)"
   ]
  },
  {
   "cell_type": "code",
   "execution_count": 34,
   "metadata": {},
   "outputs": [
    {
     "name": "stdout",
     "output_type": "stream",
     "text": [
      "accuracy score is 0.8946230217241719\n",
      "Kappa is : 0.3666622877884702\n",
      "Sensitiviy is : 0.3203319502074689\n",
      "Precision is : 0.6040688575899843\n",
      "R2 score is: -0.009162684473332794\n",
      "Area under curve is  :0.6460602659155096\n",
      "[[8715  253]\n",
      " [ 819  386]]\n",
      "              precision    recall  f1-score   support\n",
      "\n",
      "           0       0.91      0.97      0.94      8968\n",
      "           1       0.60      0.32      0.42      1205\n",
      "\n",
      "    accuracy                           0.89     10173\n",
      "   macro avg       0.76      0.65      0.68     10173\n",
      "weighted avg       0.88      0.89      0.88     10173\n",
      "\n"
     ]
    }
   ],
   "source": [
    "print(\"accuracy score is {}\".format(accuracy_score(y_test,prediction)))\n",
    "print(\"Kappa is :\",cohen_kappa_score(y_test,prediction))\n",
    "print(\"Sensitiviy is :\",recall_score(y_test, prediction))\n",
    "print(\"Precision is :\",precision_score(y_test, prediction))\n",
    "print(\"R2 score is:\",r2_score(y_test,prediction))\n",
    "fpr, tpr, thresholds = roc_curve(y_test,prediction)\n",
    "print(\"Area under curve is  :{}\".format(auc(fpr,tpr)))\n",
    "print(confusion_matrix(y_test, prediction))\n",
    "print(classification_report(y_test, prediction))"
   ]
  },
  {
   "cell_type": "code",
   "execution_count": null,
   "metadata": {},
   "outputs": [],
   "source": [
    "# Random forest"
   ]
  },
  {
   "cell_type": "code",
   "execution_count": 35,
   "metadata": {},
   "outputs": [],
   "source": [
    "rf=RandomForestClassifier(n_estimators=100)\n",
    "rf.fit(x_train,y_train)\n",
    "prediction=rf.predict(x_test)"
   ]
  },
  {
   "cell_type": "code",
   "execution_count": 36,
   "metadata": {},
   "outputs": [
    {
     "name": "stdout",
     "output_type": "stream",
     "text": [
      "accuracy score is 0.9033716701071464\n",
      "Kappa is : 0.44019131684755\n",
      "Sensitiviy is : 0.391701244813278\n",
      "Precision is : 0.6537396121883656\n",
      "R2 score is: 0.07462041153238241\n",
      "Area under curve is  :0.6819121745921876\n",
      "[[8718  250]\n",
      " [ 733  472]]\n",
      "              precision    recall  f1-score   support\n",
      "\n",
      "           0       0.92      0.97      0.95      8968\n",
      "           1       0.65      0.39      0.49      1205\n",
      "\n",
      "    accuracy                           0.90     10173\n",
      "   macro avg       0.79      0.68      0.72     10173\n",
      "weighted avg       0.89      0.90      0.89     10173\n",
      "\n"
     ]
    }
   ],
   "source": [
    "print(\"accuracy score is {}\".format(accuracy_score(y_test,prediction)))\n",
    "print(\"Kappa is :\",cohen_kappa_score(y_test,prediction))\n",
    "print(\"Sensitiviy is :\",recall_score(y_test, prediction))\n",
    "print(\"Precision is :\",precision_score(y_test, prediction))\n",
    "print(\"R2 score is:\",r2_score(y_test,prediction))\n",
    "fpr, tpr, thresholds = roc_curve(y_test,prediction)\n",
    "print(\"Area under curve is  :{}\".format(auc(fpr,tpr)))\n",
    "print(confusion_matrix(y_test, prediction))\n",
    "print(classification_report(y_test, prediction))"
   ]
  },
  {
   "cell_type": "code",
   "execution_count": null,
   "metadata": {},
   "outputs": [],
   "source": [
    "# CART"
   ]
  },
  {
   "cell_type": "code",
   "execution_count": 37,
   "metadata": {},
   "outputs": [],
   "source": [
    "dt=DecisionTreeClassifier(criterion=\"entropy\",max_depth=20)\n",
    "dt.fit(x_train,y_train)\n",
    "prediction=dt.predict(x_test)"
   ]
  },
  {
   "cell_type": "code",
   "execution_count": 38,
   "metadata": {},
   "outputs": [
    {
     "name": "stdout",
     "output_type": "stream",
     "text": [
      "accuracy score is 0.8801730069792588\n",
      "Kappa is : 0.4172261091661379\n",
      "Sensitiviy is : 0.4763485477178423\n",
      "Precision is : 0.4939759036144578\n",
      "R2 score is: -0.14754600034794074\n",
      "Area under curve is  :0.7053910445993316\n",
      "[[8380  588]\n",
      " [ 631  574]]\n",
      "              precision    recall  f1-score   support\n",
      "\n",
      "           0       0.93      0.93      0.93      8968\n",
      "           1       0.49      0.48      0.49      1205\n",
      "\n",
      "    accuracy                           0.88     10173\n",
      "   macro avg       0.71      0.71      0.71     10173\n",
      "weighted avg       0.88      0.88      0.88     10173\n",
      "\n"
     ]
    }
   ],
   "source": [
    "print(\"accuracy score is {}\".format(accuracy_score(y_test,prediction)))\n",
    "print(\"Kappa is :\",cohen_kappa_score(y_test,prediction))\n",
    "print(\"Sensitiviy is :\",recall_score(y_test, prediction))\n",
    "print(\"Precision is :\",precision_score(y_test, prediction))\n",
    "print(\"R2 score is:\",r2_score(y_test,prediction))\n",
    "fpr, tpr, thresholds = roc_curve(y_test,prediction)\n",
    "print(\"Area under curve is  :{}\".format(auc(fpr,tpr)))\n",
    "print(confusion_matrix(y_test, prediction))\n",
    "print(classification_report(y_test, prediction))"
   ]
  },
  {
   "cell_type": "code",
   "execution_count": 42,
   "metadata": {},
   "outputs": [],
   "source": [
    "from sklearn.model_selection import GridSearchCV\n",
    "from sklearn.svm import SVC\n",
    "sv_classifier=SVC()"
   ]
  },
  {
   "cell_type": "code",
   "execution_count": 40,
   "metadata": {},
   "outputs": [],
   "source": [
    "param_grid = {\"kernel\": ['rbf','sigmoid'],\n",
    "             \"C\":[0.1,0.5,1.0],\n",
    "             \"random_state\":[0,100,200,300]}"
   ]
  },
  {
   "cell_type": "code",
   "execution_count": 43,
   "metadata": {},
   "outputs": [],
   "source": [
    "grid = GridSearchCV(estimator=sv_classifier, param_grid=param_grid, cv=5,  verbose=3)"
   ]
  },
  {
   "cell_type": "code",
   "execution_count": null,
   "metadata": {},
   "outputs": [],
   "source": [
    "grid.fit(x_train,y_train)"
   ]
  },
  {
   "cell_type": "code",
   "execution_count": null,
   "metadata": {},
   "outputs": [],
   "source": [
    "grid.best_estimator_"
   ]
  },
  {
   "cell_type": "code",
   "execution_count": null,
   "metadata": {},
   "outputs": [],
   "source": [
    "prediction=grid.predict(x_test)"
   ]
  },
  {
   "cell_type": "code",
   "execution_count": null,
   "metadata": {},
   "outputs": [],
   "source": [
    "print(\"accuracy score is {}\".format(accuracy_score(y_test,prediction)))\n",
    "print(\"Kappa is :\",cohen_kappa_score(y_test,prediction))\n",
    "print(\"Sensitiviy is :\",recall_score(y_test, prediction))\n",
    "print(\"Precision is :\",precision_score(y_test, prediction))\n",
    "print(\"R2 score is:\",r2_score(y_test,prediction))\n",
    "fpr, tpr, thresholds = roc_curve(y_test,prediction)\n",
    "print(\"Area under curve is  :{}\".format(auc(fpr,tpr)))\n",
    "print(confusion_matrix(y_test, prediction))\n",
    "print(classification_report(y_test, prediction))"
   ]
  },
  {
   "cell_type": "code",
   "execution_count": 46,
   "metadata": {},
   "outputs": [],
   "source": [
    "xgb=XGBClassifier()"
   ]
  },
  {
   "cell_type": "code",
   "execution_count": 47,
   "metadata": {},
   "outputs": [],
   "source": [
    "prediction= xgb.fit(x_train,y_train).predict(x_test)"
   ]
  },
  {
   "cell_type": "code",
   "execution_count": 48,
   "metadata": {},
   "outputs": [
    {
     "name": "stdout",
     "output_type": "stream",
     "text": [
      "accuracy score is 0.90376486778728\n",
      "Kappa is : 0.4727164510799332\n",
      "Sensitiviy is : 0.44813278008298757\n",
      "Precision is : 0.6323185011709602\n",
      "R2 score is: 0.0783859439371336\n",
      "Area under curve is  :0.7065596995865429\n",
      "[[8654  314]\n",
      " [ 665  540]]\n",
      "              precision    recall  f1-score   support\n",
      "\n",
      "           0       0.93      0.96      0.95      8968\n",
      "           1       0.63      0.45      0.52      1205\n",
      "\n",
      "    accuracy                           0.90     10173\n",
      "   macro avg       0.78      0.71      0.74     10173\n",
      "weighted avg       0.89      0.90      0.90     10173\n",
      "\n"
     ]
    }
   ],
   "source": [
    "print(\"accuracy score is {}\".format(accuracy_score(y_test,prediction)))\n",
    "print(\"Kappa is :\",cohen_kappa_score(y_test,prediction))\n",
    "print(\"Sensitiviy is :\",recall_score(y_test, prediction))\n",
    "print(\"Precision is :\",precision_score(y_test, prediction))\n",
    "print(\"R2 score is:\",r2_score(y_test,prediction))\n",
    "fpr, tpr, thresholds = roc_curve(y_test,prediction)\n",
    "print(\"Area under curve is  :{}\".format(auc(fpr,tpr)))\n",
    "print(confusion_matrix(y_test, prediction))\n",
    "print(classification_report(y_test, prediction))"
   ]
  },
  {
   "cell_type": "code",
   "execution_count": null,
   "metadata": {},
   "outputs": [],
   "source": [
    "# Using xgboost on test data"
   ]
  },
  {
   "cell_type": "code",
   "execution_count": 49,
   "metadata": {},
   "outputs": [],
   "source": [
    "prediction=xgb.fit(x,y).predict(test)"
   ]
  },
  {
   "cell_type": "code",
   "execution_count": 51,
   "metadata": {},
   "outputs": [],
   "source": [
    "final_submission=pd.DataFrame({\"labels\":prediction})"
   ]
  },
  {
   "cell_type": "code",
   "execution_count": null,
   "metadata": {},
   "outputs": [],
   "source": [
    "# Converting to csv"
   ]
  },
  {
   "cell_type": "code",
   "execution_count": 53,
   "metadata": {},
   "outputs": [],
   "source": [
    "final_submission.to_csv(\"Ins-churn1.csv\",index=False)"
   ]
  },
  {
   "cell_type": "code",
   "execution_count": null,
   "metadata": {},
   "outputs": [],
   "source": []
  },
  {
   "cell_type": "code",
   "execution_count": null,
   "metadata": {},
   "outputs": [],
   "source": []
  },
  {
   "cell_type": "code",
   "execution_count": null,
   "metadata": {},
   "outputs": [],
   "source": []
  },
  {
   "cell_type": "code",
   "execution_count": null,
   "metadata": {},
   "outputs": [],
   "source": []
  },
  {
   "cell_type": "code",
   "execution_count": null,
   "metadata": {},
   "outputs": [],
   "source": []
  },
  {
   "cell_type": "code",
   "execution_count": null,
   "metadata": {},
   "outputs": [],
   "source": []
  }
 ],
 "metadata": {
  "kernelspec": {
   "display_name": "Python 3",
   "language": "python",
   "name": "python3"
  },
  "language_info": {
   "codemirror_mode": {
    "name": "ipython",
    "version": 3
   },
   "file_extension": ".py",
   "mimetype": "text/x-python",
   "name": "python",
   "nbconvert_exporter": "python",
   "pygments_lexer": "ipython3",
   "version": "3.6.5"
  }
 },
 "nbformat": 4,
 "nbformat_minor": 2
}
